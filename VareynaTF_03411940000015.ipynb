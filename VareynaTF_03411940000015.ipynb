{
 "cells": [
  {
   "cell_type": "code",
   "execution_count": 4,
   "metadata": {},
   "outputs": [
    {
     "name": "stdout",
     "output_type": "stream",
     "text": [
      "terlihat seperti orang cina\n"
     ]
    }
   ],
   "source": [
    "mancung= True\n",
    "putih= True\n",
    "sipit= True\n",
    "\n",
    "\n",
    "if mancung== True: #jika orang tersebut berhidung mancung\n",
    "    if putih== True:#jika orang tersebut berhidung mancung, berkulit putih\n",
    "        if sipit== True: #jika orang tersebut berhidung mancung, berkulit putih, dan bermata sipit\n",
    "            print (\"terlihat seperti orang cina\")\n",
    "        else: #jika orang tersebut berhidung mancung, berkulit putih, namun tidak bermata sipit\n",
    "            print (\"terlihat seperti orang lokal\")\n",
    "    else: #jika orang tersebut berhidung mancung namun tidak putih\n",
    "        if sipit== True: #jika orang tersebut berhidung mancung, tidak putih, dan bermata sipit\n",
    "            print(\"mungkin memiliki keturunan cina\")\n",
    "        else: #jika orang tersebut berhidung mancung, tidak putih, dan tidak bermata sipit\n",
    "            print(\"orang tersebut keturunan orang lokal\")   \n",
    "else:  #jika orang tersebut tidak berhidung mancung\n",
    "    if putih== True: #jika orang tersebut tidak berhidung mancung namun berkulit putih\n",
    "        if sipit== True: #jika orang tersebut tidak berhidung mancung, berkulit putih, dan bermata sipit\n",
    "            print (\"orang tersebut terlihat manis\")\n",
    "        else: #jika orang tersebut tidak berhidung mancung, berkulit putih, dan tidak bermata sipit\n",
    "            print (\"orang lain menganggapnya cukup menarik perhatian\")\n",
    "    else: #jika orang tersebut tidak berhidung mancung, tidak putih\n",
    "        if sipit== True: #jika orang tersebut tidak berhidung mancung,tidak putih, dan bermata sipit\n",
    "            print (\" orang tersebut tidak menarik\")\n",
    "        else: #jika orang tersebut tidak berhidung mancung, tidak putih dan bermata sipit\n",
    "            print (\"orang tersebut membutuhkan perawatan\")"
   ]
  },
  {
   "cell_type": "code",
   "execution_count": 13,
   "metadata": {},
   "outputs": [
    {
     "name": "stdout",
     "output_type": "stream",
     "text": [
      "angka: 0 lebih kecil dari 4\n",
      "angka: 1 lebih kecil dari 4\n",
      "angka: 2 lebih kecil dari 4\n",
      "angka: 3 lebih kecil dari 4\n",
      "angka: 4 tidak lebih kecil dari 4\n",
      "end\n"
     ]
    }
   ],
   "source": [
    "nilai=0\n",
    "while (nilai<4):\n",
    "    print (\"angka:\", nilai, \"lebih kecil dari 4\")\n",
    "    nilai=nilai +1\n",
    "else:\n",
    "    print (\"angka:\",nilai,\"tidak lebih kecil dari 4\")\n",
    "\n",
    "print (\"end\")"
   ]
  },
  {
   "cell_type": "code",
   "execution_count": 1,
   "metadata": {},
   "outputs": [
    {
     "name": "stdout",
     "output_type": "stream",
     "text": [
      "Anda harus segera membuat KTP\n"
     ]
    }
   ],
   "source": [
    "umur_saya=19\n",
    "if umur_saya>=17:\n",
    "    print(\"Anda harus segera membuat KTP\")\n",
    "elif 13>=umur_saya<=16:\n",
    "    print (\"Tunggu beberapa tahun lagi untuk membuat KTP!\")\n",
    "else:\n",
    "    print(\"Anda belum cukup umur\")"
   ]
  },
  {
   "cell_type": "code",
   "execution_count": null,
   "metadata": {},
   "outputs": [],
   "source": []
  }
 ],
 "metadata": {
  "kernelspec": {
   "display_name": "Python 3",
   "language": "python",
   "name": "python3"
  },
  "language_info": {
   "codemirror_mode": {
    "name": "ipython",
    "version": 3
   },
   "file_extension": ".py",
   "mimetype": "text/x-python",
   "name": "python",
   "nbconvert_exporter": "python",
   "pygments_lexer": "ipython3",
   "version": "3.7.4"
  }
 },
 "nbformat": 4,
 "nbformat_minor": 2
}
