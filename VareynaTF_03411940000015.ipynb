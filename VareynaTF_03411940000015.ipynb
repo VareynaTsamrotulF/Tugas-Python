{
 "cells": [
  {
   "cell_type": "code",
   "execution_count": 3,
   "metadata": {},
   "outputs": [
    {
     "name": "stdout",
     "output_type": "stream",
     "text": [
      "kemungkinan anda akan lulus ujian SBMPTN sangat besar\n"
     ]
    }
   ],
   "source": [
    "berdoa= True\n",
    "belajar= True\n",
    "restu= True\n",
    "\n",
    "\n",
    "if berdoa== True: #jika orang tersebut rajin berdoa\n",
    "    if belajar== True:#jika orang tersebut rajin berdoa dan rajin belajar\n",
    "        if restu== True: #jika orang tersebut rajin berdoa, rajin belajar dan mendapatkan restu orang tua\n",
    "            print (\"kemungkinan anda akan lulus ujian SBMPTN sangat besar\")\n",
    "        else: #jika orang tersebut rajin berdoa, rajin belajar namun tidak mendapatkan restu orang tua\n",
    "            print (\"anda harus berusaha meyakinkan orang tua anda, bahwa anda mampu\")\n",
    "    else: #jika orang tersebut rajin berdoa namun tidak rajin belajar\n",
    "        if restu== True: #jika orang tersebut rajin berdoa, tidak rajin belajar namun mendapatkan restu orang tua\n",
    "            print(\"harapan orang tua anda ada di tangan anda\")\n",
    "        else: #jika orang tersebut rajin berdoa namun tidak rajin belajar dan tidak mendapatkan restu orang tua\n",
    "            print(\"anda harus terus berusaha\")   \n",
    "else:  #jika orang tersebut tidak rajin berdoa\n",
    "    if belajar== True: #jika orang tersebut tidak rajin berdoa namun rajin belajar\n",
    "        if restu== True: #jika orang tersebut tidak rajin berdoa, namun rajin belajar dan mendapatkan restu orang tua\n",
    "            print (\"percayalah pertolongan tuhan jauh lebih besar\")\n",
    "        else: #jika orang tersebut tidak rajin berdoa,rajin belajar,namun tidak mendapatkan retu orang tua\n",
    "            print (\"ayo terus berusaha dan yakinkan orang tua anda\")\n",
    "    else: #jika orang tersebut tidak rajin berdoa, tidak rajin belajar\n",
    "        if restu== True: #jika orang tersebut tidak rajin berdoa, tidak rajin belajar, namun mendapatkan restu orang tua\n",
    "            print (\"jangan hancurkan harapan orang tua anda\")\n",
    "        else: #jika orang tersebut tidak rajin berdoa, tidak rajin belajar, dan tidak mendapatkan restu orang tua\n",
    "            print (\"kemungkinan lolos SBMPTN anda semakin kecil\")"
   ]
  },
  {
   "cell_type": "code",
   "execution_count": 13,
   "metadata": {},
   "outputs": [
    {
     "name": "stdout",
     "output_type": "stream",
     "text": [
      "angka: 0 lebih kecil dari 4\n",
      "angka: 1 lebih kecil dari 4\n",
      "angka: 2 lebih kecil dari 4\n",
      "angka: 3 lebih kecil dari 4\n",
      "angka: 4 tidak lebih kecil dari 4\n",
      "end\n"
     ]
    }
   ],
   "source": [
    "nilai=0\n",
    "while (nilai<4):\n",
    "    print (\"angka:\", nilai, \"lebih kecil dari 4\")\n",
    "    nilai=nilai +1\n",
    "else:\n",
    "    print (\"angka:\",nilai,\"tidak lebih kecil dari 4\")\n",
    "\n",
    "print (\"end\")"
   ]
  },
  {
   "cell_type": "code",
   "execution_count": 1,
   "metadata": {},
   "outputs": [
    {
     "name": "stdout",
     "output_type": "stream",
     "text": [
      "Anda harus segera membuat KTP\n"
     ]
    }
   ],
   "source": [
    "umur_saya=19\n",
    "if umur_saya>=17:\n",
    "    print(\"Anda harus segera membuat KTP\")\n",
    "elif 13>=umur_saya<=16:\n",
    "    print (\"Tunggu beberapa tahun lagi untuk membuat KTP!\")\n",
    "else:\n",
    "    print(\"Anda belum cukup umur\")"
   ]
  },
  {
   "cell_type": "code",
   "execution_count": null,
   "metadata": {},
   "outputs": [],
   "source": []
  }
 ],
 "metadata": {
  "kernelspec": {
   "display_name": "Python 3",
   "language": "python",
   "name": "python3"
  },
  "language_info": {
   "codemirror_mode": {
    "name": "ipython",
    "version": 3
   },
   "file_extension": ".py",
   "mimetype": "text/x-python",
   "name": "python",
   "nbconvert_exporter": "python",
   "pygments_lexer": "ipython3",
   "version": "3.7.4"
  }
 },
 "nbformat": 4,
 "nbformat_minor": 2
}
